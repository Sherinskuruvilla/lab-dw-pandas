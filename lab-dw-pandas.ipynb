{
 "cells": [
  {
   "cell_type": "markdown",
   "id": "25d7736c-ba17-4aff-b6bb-66eba20fbf4e",
   "metadata": {},
   "source": [
    "# Lab | Pandas"
   ]
  },
  {
   "cell_type": "markdown",
   "id": "d1973e9e-8be6-4039-b70e-d73ee0d94c99",
   "metadata": {},
   "source": [
    "In this lab, we will be working with the customer data from an insurance company, which can be found in the CSV file located at the following link: https://raw.githubusercontent.com/data-bootcamp-v4/data/main/file1.csv\n",
    "\n",
    "The data includes information such as customer ID, state, gender, education, income, and other variables that can be used to perform various analyses.\n",
    "\n",
    "Throughout the lab, we will be using the pandas library in Python to manipulate and analyze the data. Pandas is a powerful library that provides various data manipulation and analysis tools, including the ability to load and manipulate data from a variety of sources, including CSV files."
   ]
  },
  {
   "cell_type": "markdown",
   "id": "8045146f-f4f7-44d9-8cd9-130d6400c73a",
   "metadata": {},
   "source": [
    "### Data Description\n",
    "\n",
    "- Customer - Customer ID\n",
    "\n",
    "- ST - State where customers live\n",
    "\n",
    "- Gender - Gender of the customer\n",
    "\n",
    "- Education - Background education of customers \n",
    "\n",
    "- Customer Lifetime Value - Customer lifetime value(CLV) is the total revenue the client will derive from their entire relationship with a customer. In other words, is the predicted or calculated value of a customer over their entire duration as a policyholder with the insurance company. It is an estimation of the net profit that the insurance company expects to generate from a customer throughout their relationship with the company. Customer Lifetime Value takes into account factors such as the duration of the customer's policy, premium payments, claim history, renewal likelihood, and potential additional services or products the customer may purchase. It helps insurers assess the long-term profitability and value associated with retaining a particular customer.\n",
    "\n",
    "- Income - Customers income\n",
    "\n",
    "- Monthly Premium Auto - Amount of money the customer pays on a monthly basis as a premium for their auto insurance coverage. It represents the recurring cost that the insured person must pay to maintain their insurance policy and receive coverage for potential damages, accidents, or other covered events related to their vehicle.\n",
    "\n",
    "- Number of Open Complaints - Number of complaints the customer opened\n",
    "\n",
    "- Policy Type - There are three type of policies in car insurance (Corporate Auto, Personal Auto, and Special Auto)\n",
    "\n",
    "- Vehicle Class - Type of vehicle classes that customers have Two-Door Car, Four-Door Car SUV, Luxury SUV, Sports Car, and Luxury Car\n",
    "\n",
    "- Total Claim Amount - the sum of all claims made by the customer. It represents the total monetary value of all approved claims for incidents such as accidents, theft, vandalism, or other covered events.\n"
   ]
  },
  {
   "cell_type": "markdown",
   "id": "3a72419b-20fc-4905-817a-8c83abc59de6",
   "metadata": {},
   "source": [
    "External Resources: https://towardsdatascience.com/filtering-data-frames-in-pandas-b570b1f834b9"
   ]
  },
  {
   "cell_type": "markdown",
   "id": "8f8ece17-e919-4e23-96c0-c7c59778436a",
   "metadata": {},
   "source": [
    "## Challenge 1: Understanding the data\n",
    "\n",
    "In this challenge, you will use pandas to explore a given dataset. Your task is to gain a deep understanding of the data by analyzing its characteristics, dimensions, and statistical properties."
   ]
  },
  {
   "cell_type": "markdown",
   "id": "91437bd5-59a6-49c0-8150-ef0e6e6eb253",
   "metadata": {},
   "source": [
    "- Identify the dimensions of the dataset by determining the number of rows and columns it contains.\n",
    "- Determine the data types of each column and evaluate whether they are appropriate for the nature of the variable. You should also provide suggestions for fixing any incorrect data types.\n",
    "- Identify the number of unique values for each column and determine which columns appear to be categorical. You should also describe the unique values of each categorical column and the range of values for numerical columns, and give your insights.\n",
    "- Compute summary statistics such as mean, median, mode, standard deviation, and quartiles to understand the central tendency and distribution of the data for numerical columns. You should also provide your conclusions based on these summary statistics.\n",
    "- Compute summary statistics for categorical columns and providing your conclusions based on these statistics."
   ]
  },
  {
   "cell_type": "code",
   "execution_count": 151,
   "id": "dd4e8cd8-a6f6-486c-a5c4-1745b0c035f4",
   "metadata": {},
   "outputs": [
    {
     "name": "stdout",
     "output_type": "stream",
     "text": [
      "Number of rows= 4008 and Number of Columns= 11\n",
      "Customer                      object\n",
      "ST                            object\n",
      "GENDER                        object\n",
      "Education                     object\n",
      "Customer Lifetime Value       object\n",
      "Income                       float64\n",
      "Monthly Premium Auto         float64\n",
      "Number of Open Complaints     object\n",
      "Policy Type                   object\n",
      "Vehicle Class                 object\n",
      "Total Claim Amount           float64\n",
      "dtype: object\n",
      "Customer                     1071\n",
      "ST                              8\n",
      "GENDER                          5\n",
      "Education                       6\n",
      "Customer Lifetime Value      1027\n",
      "Income                        774\n",
      "Monthly Premium Auto          132\n",
      "Number of Open Complaints       6\n",
      "Policy Type                     3\n",
      "Vehicle Class                   6\n",
      "Total Claim Amount            761\n",
      "dtype: int64\n",
      "Categorical Columns:\n",
      "ST (unique=8): ['Washington' 'Arizona' 'Nevada' 'California' 'Oregon' 'Cali' 'AZ' 'WA'\n",
      " nan]\n",
      "GENDER (unique=5): [nan 'F' 'M' 'Femal' 'Male' 'female']\n",
      "Education (unique=6): ['Master' 'Bachelor' 'High School or Below' 'College' 'Bachelors' 'Doctor'\n",
      " nan]\n",
      "Number of Open Complaints (unique=6): ['1/0/00' '1/2/00' '1/1/00' '1/3/00' '1/5/00' '1/4/00' nan]\n",
      "Policy Type (unique=3): ['Personal Auto' 'Corporate Auto' 'Special Auto' nan]\n",
      "Vehicle Class (unique=6): ['Four-Door Car' 'Two-Door Car' 'SUV' 'Luxury SUV' 'Sports Car'\n",
      " 'Luxury Car' nan]\n",
      "Numerical Columns\n",
      "                            min           max\n",
      "Income                 0.000000  99960.000000\n",
      "Monthly Premium Auto  61.000000  35354.000000\n",
      "Total Claim Amount     0.382107   2893.239678\n",
      "                              mean        median   mode       std_dev  \\\n",
      "Income                39295.701214  36234.000000    0.0  30469.427060   \n",
      "Monthly Premium Auto    193.234360     83.000000   65.0   1601.190369   \n",
      "Total Claim Amount      404.986909    354.729129  321.6    293.027260   \n",
      "\n",
      "                            min            Q1   Q2 (Median)       Q3  \\\n",
      "Income                 0.000000  14072.000000  36234.000000  64631.0   \n",
      "Monthly Premium Auto  61.000000     68.000000     83.000000    109.5   \n",
      "Total Claim Amount     0.382107    202.157702    354.729129    532.8   \n",
      "\n",
      "                               max  \n",
      "Income                99960.000000  \n",
      "Monthly Premium Auto  35354.000000  \n",
      "Total Claim Amount     2893.239678  \n"
     ]
    }
   ],
   "source": [
    "# Your code here\n",
    "import pandas as pd\n",
    "import numpy as np\n",
    "url='https://raw.githubusercontent.com/data-bootcamp-v4/data/main/file1.csv'\n",
    "df=pd.read_csv(url)\n",
    "\n",
    "number_of_rows=df.shape[0]\n",
    "number_of_columns=df.shape[1]\n",
    "print(f\"Number of rows= {number_of_rows} and Number of Columns= {number_of_columns}\")\n",
    "\n",
    "data_type=df.dtypes\n",
    "print(data_type)\n",
    "#Customer Lifetime Value-This should be numeric, likely a float. Currently stored as string – convert to float after removing currency symbols or commas.\n",
    "#Number of open Complaints-This should be numeric, likely an integer – convert to int or float, handling missing or special characters if needed.\n",
    "\n",
    "unique_values_column=df.nunique()\n",
    "print(unique_values_column)\n",
    "\n",
    "#Categorical columns\n",
    "print(\"Categorical Columns:\")\n",
    "categorical_cols = [col for col in df.columns if df[col].nunique() <= 10]\n",
    "for col in categorical_cols:\n",
    "    print(f\"{col} (unique={df[col].nunique()}): {df[col].unique()}\")\n",
    "#Insights- Inconsistent naming ('Cali' vs 'California', 'AZ' vs 'Arizona', 'WA' vs 'Washington') (ST)\n",
    "#          Misspelling inconsistent casing,there should be only two genders (GENDER)\n",
    "#          'Bachelor' vs 'Bachelors' is inconsistent (Education)\n",
    "#         Likely misformatted — these look like dates or improperly entered complaint counts(Number of Open Complaints)\n",
    "#         Policy Type and Vehicle Class are well defined categorical columns.\n",
    "\n",
    "#Numeric or ID-type Columns \n",
    "print(\"Numerical Columns\")\n",
    "numeric_cols = df.select_dtypes(include='number').columns\n",
    "print(df[numeric_cols].describe().T[['min','max']])\n",
    "#Income -Wide range; some customers have 0 income (unusual)\n",
    "#Monthly Premium Auto- Very large max suggests outliers or data entry errors (35K is not a normal premium)\n",
    "#Total Claim amount-Seems more consistent\n",
    "\n",
    "# Select only numerical columns\n",
    "numerical_df = df.select_dtypes(include=[np.number])\n",
    "\n",
    "# Compute basic statistics\n",
    "summary = numerical_df.describe().T\n",
    "\n",
    "# Add additional statistics\n",
    "summary[\"median\"] = numerical_df.median()\n",
    "summary[\"mode\"] = numerical_df.mode().iloc[0]\n",
    "summary[\"std_dev\"] = numerical_df.std()\n",
    "summary[\"Q1\"] = numerical_df.quantile(0.25)\n",
    "summary[\"Q3\"] = numerical_df.quantile(0.75)\n",
    "\n",
    "# Rearrange columns for readability\n",
    "summary = summary[[\"mean\", \"median\", \"mode\", \"std_dev\", \"min\", \"Q1\", \"50%\", \"Q3\", \"max\"]]\n",
    "summary.rename(columns={\"50%\": \"Q2 (Median)\"}, inplace=True)\n",
    "print(summary)\n",
    "#Conclusions for numerical columns:\n",
    "#The Income column may have many entries of 0 that should be assessed for validity.\n",
    "#The Monthly Premium Auto column has extreme outliers, possibly due to input errors.\n",
    "#Total Claim Amount is reasonably distributed and suitable for modeling or analysis.\n",
    "\n",
    "#conclusions for catogorical columns:\n",
    "#Inconsistent naming ('Cali' vs 'California', 'AZ' vs 'Arizona', 'WA' vs 'Washington') (ST)\n",
    "#          Misspelling inconsistent casing,there should be only two genders (GENDER)\n",
    "#          'Bachelor' vs 'Bachelors' is inconsistent (Education)\n",
    "#         Likely misformatted — these look like dates or improperly entered complaint counts(Number of Open Complaints)\n",
    "#         Policy Type and Vehicle Class are well defined categorical columns.\n"
   ]
  },
  {
   "cell_type": "markdown",
   "id": "4a703890-63db-4944-b7ab-95a4f8185120",
   "metadata": {},
   "source": [
    "## Challenge 2: analyzing the data"
   ]
  },
  {
   "cell_type": "markdown",
   "id": "0776a403-c56a-452f-ac33-5fd4fdb06fc7",
   "metadata": {},
   "source": [
    "### Exercise 1"
   ]
  },
  {
   "cell_type": "markdown",
   "id": "eedbc484-da4d-4f9c-9343-e1d44311a87e",
   "metadata": {},
   "source": [
    "The marketing team wants to know the top 5 less common customer locations. Create a pandas Series object that contains the customer locations and their frequencies, and then retrieve the top 5 less common locations in ascending order."
   ]
  },
  {
   "cell_type": "code",
   "execution_count": 153,
   "id": "2dca5073-4520-4f42-9390-4b92733284ed",
   "metadata": {},
   "outputs": [
    {
     "name": "stdout",
     "output_type": "stream",
     "text": [
      "ST\n",
      "AZ             25\n",
      "WA             30\n",
      "Washington     81\n",
      "Nevada         98\n",
      "Cali          120\n",
      "Name: count, dtype: int64\n"
     ]
    }
   ],
   "source": [
    "# Your code here\n",
    "location_counts = df['ST'].value_counts(dropna=True)\n",
    "least_common_locations = location_counts.sort_values(ascending=True).head(5)\n",
    "\n",
    "print(least_common_locations)"
   ]
  },
  {
   "cell_type": "markdown",
   "id": "0ce80f43-4afa-43c7-a78a-c917444da4e0",
   "metadata": {},
   "source": [
    "### Exercise 2\n",
    "\n",
    "The sales team wants to know the total number of policies sold for each type of policy. Create a pandas Series object that contains the policy types and their total number of policies sold, and then retrieve the policy type with the highest number of policies sold."
   ]
  },
  {
   "cell_type": "markdown",
   "id": "a9f13997-1555-4f98-aca6-970fda1d2c3f",
   "metadata": {},
   "source": [
    "*Hint:*\n",
    "- *Using value_counts() method simplifies this analysis.*\n",
    "- *Futhermore, there is a method that returns the index of the maximum value in a column or row.*\n"
   ]
  },
  {
   "cell_type": "code",
   "execution_count": 155,
   "id": "bcfad6c1-9af2-4b0b-9aa9-0dc5c17473c0",
   "metadata": {},
   "outputs": [
    {
     "name": "stdout",
     "output_type": "stream",
     "text": [
      "Total policies:\n",
      "Policy Type\n",
      "Personal Auto     780\n",
      "Corporate Auto    234\n",
      "Special Auto       57\n",
      "Name: count, dtype: int64\n",
      "The policy type that sold highest number of policies: Personal Auto\n"
     ]
    }
   ],
   "source": [
    "# Your code here\n",
    "\n",
    "total_policies = df['Policy Type'].value_counts(dropna=True)\n",
    "print(\"Total policies:\")\n",
    "print(total_policies)\n",
    "highest_sold_policy =total_policies.idxmax()\n",
    "print(f\"The policy type that sold highest number of policies: {highest_sold_policy}\")\n"
   ]
  },
  {
   "cell_type": "markdown",
   "id": "0b863fd3-bf91-4d5d-86eb-be29ed9f5b70",
   "metadata": {},
   "source": [
    "### Exercise 3\n",
    "\n",
    "The sales team wants to know if customers with Personal Auto have a lower income than those with Corporate Auto. How does the average income compare between the two policy types?"
   ]
  },
  {
   "cell_type": "markdown",
   "id": "b1386d75-2810-4aa1-93e0-9485aa12d552",
   "metadata": {},
   "source": [
    "- Use *loc* to create two dataframes: one containing only Personal Auto policies and one containing only Corporate Auto policies.\n",
    "- Calculate the average income for each policy.\n",
    "- Print the results."
   ]
  },
  {
   "cell_type": "code",
   "execution_count": 157,
   "id": "0c0563cf-6f8b-463d-a321-651a972f82e5",
   "metadata": {},
   "outputs": [
    {
     "name": "stdout",
     "output_type": "stream",
     "text": [
      "Average income for Personal Auto policyholders: 38180.7\n",
      "Average income for Corporate Auto policyholders: 41390.31\n"
     ]
    }
   ],
   "source": [
    "# Your code here\n",
    "personal_auto_dataframe = df.loc[df['Policy Type'] == 'Personal Auto']\n",
    "corporate_auto_dataframe = df.loc[df['Policy Type'] == 'Corporate Auto']\n",
    "\n",
    "average_income_personal = round(personal_auto_dataframe['Income'].mean(),2)\n",
    "average_income_corporate = round(corporate_auto_dataframe['Income'].mean(),2)\n",
    "\n",
    "print(f\"Average income for Personal Auto policyholders: {average_income_personal}\")\n",
    "print(f\"Average income for Corporate Auto policyholders: {average_income_corporate}\")\n",
    "\n"
   ]
  },
  {
   "cell_type": "markdown",
   "id": "80b16c27-f4a5-4727-a229-1f88671cf4e2",
   "metadata": {},
   "source": [
    "### Bonus: Exercise 4\n"
   ]
  },
  {
   "cell_type": "markdown",
   "id": "ac584986-299b-475f-ac2e-928c16c3f512",
   "metadata": {},
   "source": [
    "Your goal is to identify customers with a high policy claim amount.\n",
    "\n",
    "Instructions:\n",
    "\n",
    "- Review again the statistics for total claim amount to gain an understanding of the data.\n",
    "- To identify potential areas for improving customer retention and profitability, we want to focus on customers with a high policy claim amount. Consider customers with a high policy claim amount to be those in the top 25% of the total claim amount. Create a pandas DataFrame object that contains information about customers with a policy claim amount greater than the 75th percentile.\n",
    "- Use DataFrame methods to calculate summary statistics about the high policy claim amount data. "
   ]
  },
  {
   "cell_type": "markdown",
   "id": "4e3af5f1-6023-4b05-9c01-d05392daa650",
   "metadata": {},
   "source": [
    "*Note: When analyzing data, we often want to focus on certain groups of values to gain insights. Percentiles are a useful tool to help us define these groups. A percentile is a measure that tells us what percentage of values in a dataset are below a certain value. For example, the 75th percentile represents the value below which 75% of the data falls. Similarly, the 25th percentile represents the value below which 25% of the data falls. When we talk about the top 25%, we are referring to the values that fall above the 75th percentile, which represent the top quarter of the data. On the other hand, when we talk about the bottom 25%, we are referring to the values that fall below the 25th percentile, which represent the bottom quarter of the data. By focusing on these groups, we can identify patterns and trends that may be useful for making decisions and taking action.*\n",
    "\n",
    "*Hint: look for a method that gives you the percentile or quantile 0.75 and 0.25 for a Pandas Series.*"
   ]
  },
  {
   "cell_type": "markdown",
   "id": "2d234634-50bd-41e0-88f7-d5ba684455d1",
   "metadata": {},
   "source": [
    "*Hint 2: check `Boolean selection according to the values of a single column` in https://towardsdatascience.com/filtering-data-frames-in-pandas-b570b1f834b9*"
   ]
  },
  {
   "cell_type": "code",
   "execution_count": 159,
   "id": "b731bca6-a760-4860-a27b-a33efa712ce0",
   "metadata": {},
   "outputs": [
    {
     "name": "stdout",
     "output_type": "stream",
     "text": [
      "       Customer      ST GENDER Education Customer Lifetime Value  \\\n",
      "count       264     264    238       264                     264   \n",
      "unique      264       7      5         5                     256   \n",
      "top     QZ44356  Oregon      F  Bachelor              578018.22%   \n",
      "freq          1      90    115        85                       3   \n",
      "mean        NaN     NaN    NaN       NaN                     NaN   \n",
      "std         NaN     NaN    NaN       NaN                     NaN   \n",
      "min         NaN     NaN    NaN       NaN                     NaN   \n",
      "25%         NaN     NaN    NaN       NaN                     NaN   \n",
      "50%         NaN     NaN    NaN       NaN                     NaN   \n",
      "75%         NaN     NaN    NaN       NaN                     NaN   \n",
      "max         NaN     NaN    NaN       NaN                     NaN   \n",
      "\n",
      "              Income  Monthly Premium Auto Number of Open Complaints  \\\n",
      "count     264.000000            264.000000                       264   \n",
      "unique           NaN                   NaN                         6   \n",
      "top              NaN                   NaN                    1/0/00   \n",
      "freq             NaN                   NaN                       206   \n",
      "mean    23677.344697            165.193182                       NaN   \n",
      "std     27013.483721            623.930992                       NaN   \n",
      "min         0.000000             63.000000                       NaN   \n",
      "25%         0.000000             99.000000                       NaN   \n",
      "50%     18807.000000            114.000000                       NaN   \n",
      "75%     42423.750000            133.250000                       NaN   \n",
      "max     99316.000000          10202.000000                       NaN   \n",
      "\n",
      "          Policy Type Vehicle Class  Total Claim Amount  \n",
      "count             264           264          264.000000  \n",
      "unique              3             6                 NaN  \n",
      "top     Personal Auto           SUV                 NaN  \n",
      "freq              191           101                 NaN  \n",
      "mean              NaN           NaN          782.228263  \n",
      "std               NaN           NaN          292.751640  \n",
      "min               NaN           NaN          537.600000  \n",
      "25%               NaN           NaN          606.521741  \n",
      "50%               NaN           NaN          679.597985  \n",
      "75%               NaN           NaN          851.400000  \n",
      "max               NaN           NaN         2893.239678  \n"
     ]
    }
   ],
   "source": [
    "# Your code here\n",
    "\n",
    "q3=df[\"Total Claim Amount\"].quantile(0.75)\n",
    "high_claim_dataframe = df[df['Total Claim Amount'] > q3]\n",
    "summary_statistics=high_claim_dataframe.describe(include='all')\n",
    "print(summary_statistics)"
   ]
  },
  {
   "cell_type": "code",
   "execution_count": null,
   "id": "5d4bf946-1969-42d1-ae31-21936ed7aced",
   "metadata": {},
   "outputs": [],
   "source": []
  }
 ],
 "metadata": {
  "kernelspec": {
   "display_name": "Python [conda env:base] *",
   "language": "python",
   "name": "conda-base-py"
  },
  "language_info": {
   "codemirror_mode": {
    "name": "ipython",
    "version": 3
   },
   "file_extension": ".py",
   "mimetype": "text/x-python",
   "name": "python",
   "nbconvert_exporter": "python",
   "pygments_lexer": "ipython3",
   "version": "3.12.7"
  }
 },
 "nbformat": 4,
 "nbformat_minor": 5
}
